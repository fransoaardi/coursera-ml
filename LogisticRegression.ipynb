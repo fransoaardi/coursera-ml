{
 "cells": [
  {
   "cell_type": "code",
   "execution_count": 126,
   "metadata": {
    "collapsed": true
   },
   "outputs": [],
   "source": [
    "import pandas as pd\n",
    "import numpy as np\n",
    "import matplotlib.pyplot as plt"
   ]
  },
  {
   "cell_type": "markdown",
   "metadata": {},
   "source": [
    "## Visualizing the data"
   ]
  },
  {
   "cell_type": "code",
   "execution_count": 127,
   "metadata": {
    "collapsed": false
   },
   "outputs": [
    {
     "data": {
      "image/png": "[encoded data removed]",
      "text/plain": [
       "<Figure size 432x288 with 1 Axes>"
      ]
     },
     "metadata": {},
     "output_type": "display_data"
    }
   ],
   "source": [
    "data = pd.read_csv('data/ex2data1.txt', header=None, usecols=[0, 1, 2])\n",
    "\n",
    "\n",
    "def plot_data(df):\n",
    "    plt.scatter(df[df[2] == 1][0], df[df[2] == 1][1], marker='o', c='blue', label='admitted')\n",
    "    plt.scatter(df[df[2] == 0][0], df[df[2] == 0][1], marker='x', c='red', label='not admitted')\n",
    "    plt.xlabel('Exam 1 score')    \n",
    "    plt.ylabel('Exam 2 score')\n",
    "    plt.legend()\n",
    "        \n",
    "        \n",
    "plot_data(data)"
   ]
  },
  {
   "cell_type": "code",
   "execution_count": 128,
   "metadata": {},
   "outputs": [],
   "source": [
    "## 1.2 Implementation"
   ]
  },
  {
   "cell_type": "code",
   "execution_count": 129,
   "metadata": {},
   "outputs": [],
   "source": [
    "### 1.2.1 Sigmoid function"
   ]
  },
  {
   "cell_type": "code",
   "execution_count": 130,
   "metadata": {},
   "outputs": [
    {
     "name": "stdout",
     "output_type": "stream",
     "text": [
      "0.5\n"
     ]
    }
   ],
   "source": [
    "def sigmoid(z):\n",
    "    return 1 / (1 + np.exp(-z))\n",
    "\n",
    "\n",
    "print(sigmoid(0))"
   ]
  },
  {
   "cell_type": "code",
   "execution_count": 131,
   "metadata": {},
   "outputs": [],
   "source": [
    "### 1.2.2 Cost function and gradient"
   ]
  },
  {
   "cell_type": "code",
   "execution_count": 223,
   "metadata": {
    "collapsed": true
   },
   "outputs": [
    {
     "name": "stdout",
     "output_type": "stream",
     "text": [
      "                0           1           2\ncount  100.000000  100.000000  100.000000\nmean    65.644274   66.221998    0.600000\nstd     19.458222   18.582783    0.492366\nmin     30.058822   30.603263    0.000000\n25%     50.919511   48.179205    0.000000\n50%     67.032988   67.682381    1.000000\n75%     80.212529   79.360605    1.000000\nmax     99.827858   98.869436    1.000000\n[[34.62365962 78.02469282  0.        ]\n [30.28671077 43.89499752  0.        ]\n [35.84740877 72.90219803  0.        ]\n [60.18259939 86.3085521   1.        ]\n [79.03273605 75.34437644  1.        ]\n [45.08327748 56.31637178  0.        ]\n [61.10666454 96.51142588  1.        ]\n [75.02474557 46.55401354  1.        ]\n [76.0987867  87.42056972  1.        ]\n [84.43281996 43.53339331  1.        ]\n [95.86155507 38.22527806  0.        ]\n [75.01365839 30.60326323  0.        ]\n [82.30705337 76.4819633   1.        ]\n [69.36458876 97.71869196  1.        ]\n [39.53833914 76.03681085  0.        ]\n [53.97105215 89.20735014  1.        ]\n [69.07014406 52.74046973  1.        ]\n [67.94685548 46.67857411  0.        ]\n [70.66150955 92.92713789  1.        ]\n [76.97878373 47.57596365  1.        ]\n [67.37202755 42.83843832  0.        ]\n [89.67677575 65.79936593  1.        ]\n [50.53478829 48.85581153  0.        ]\n [34.21206098 44.2095286   0.        ]\n [77.92409145 68.97235999  1.        ]\n [62.27101367 69.95445795  1.        ]\n [80.19018075 44.82162893  1.        ]\n [93.1143888  38.80067034  0.        ]\n [61.83020602 50.25610789  0.        ]\n [38.7858038  64.99568096  0.        ]\n [61.37928945 72.80788731  1.        ]\n [85.40451939 57.05198398  1.        ]\n [52.10797973 63.12762377  0.        ]\n [52.04540477 69.43286012  1.        ]\n [40.23689374 71.16774802  0.        ]\n [54.63510555 52.21388588  0.        ]\n [33.91550011 98.86943574  0.        ]\n [64.17698887 80.90806059  1.        ]\n [74.78925296 41.57341523  0.        ]\n [34.18364003 75.23772034  0.        ]\n [83.90239366 56.30804622  1.        ]\n [51.54772027 46.85629026  0.        ]\n [94.44336777 65.56892161  1.        ]\n [82.36875376 40.61825516  0.        ]\n [51.04775177 45.82270146  0.        ]\n [62.22267576 52.06099195  0.        ]\n [77.19303493 70.4582      1.        ]\n [97.77159928 86.72782233  1.        ]\n [62.0730638  96.76882412  1.        ]\n [91.5649745  88.69629255  1.        ]\n [79.94481794 74.16311935  1.        ]\n [99.27252693 60.999031    1.        ]\n [90.54671411 43.39060181  1.        ]\n [34.52451385 60.39634246  0.        ]\n [50.28649612 49.80453881  0.        ]\n [49.58667722 59.80895099  0.        ]\n [97.64563396 68.86157272  1.        ]\n [32.57720017 95.59854761  0.        ]\n [74.24869137 69.82457123  1.        ]\n [71.79646206 78.45356225  1.        ]\n [75.39561147 85.75993667  1.        ]\n [35.28611282 47.02051395  0.        ]\n [56.2538175  39.26147251  0.        ]\n [30.05882245 49.59297387  0.        ]\n [44.66826172 66.45008615  0.        ]\n [66.56089447 41.09209808  0.        ]\n [40.45755098 97.53518549  1.        ]\n [49.07256322 51.88321182  0.        ]\n [80.27957401 92.11606081  1.        ]\n [66.74671857 60.99139403  1.        ]\n [32.72283304 43.30717306  0.        ]\n [64.03932042 78.03168802  1.        ]\n [72.34649423 96.22759297  1.        ]\n [60.45788574 73.0949981   1.        ]\n [58.84095622 75.85844831  1.        ]\n [99.8278578  72.36925193  1.        ]\n [47.26426911 88.475865    1.        ]\n [50.4581598  75.80985953  1.        ]\n [60.45555629 42.50840944  0.        ]\n [82.22666158 42.71987854  0.        ]\n [88.91389642 69.8037889   1.        ]\n [94.83450672 45.6943068   1.        ]\n [67.31925747 66.58935318  1.        ]\n [57.23870632 59.51428198  1.        ]\n [80.366756   90.9601479   1.        ]\n [68.46852179 85.5943071   1.        ]\n [42.07545454 78.844786    0.        ]\n [75.47770201 90.424539    1.        ]\n [78.63542435 96.64742717  1.        ]\n [52.34800399 60.76950526  0.        ]\n [94.09433113 77.15910509  1.        ]\n [90.44855097 87.50879176  1.        ]\n [55.48216114 35.57070347  0.        ]\n [74.49269242 84.84513685  1.        ]\n [89.84580671 45.35828361  1.        ]\n [83.48916274 48.3802858   1.        ]\n [42.26170081 87.10385094  1.        ]\n [99.31500881 68.77540947  1.        ]\n [55.34001756 64.93193801  1.        ]\n [74.775893   89.5298129   1.        ]]\n<class 'pandas.core.frame.DataFrame'>\n<class 'numpy.ndarray'>\n<class 'numpy.ndarray'>\n"
     ]
    }
   ],
   "source": [
    "def cost_func(theta, x, y):\n",
    "    m = x.size\n",
    "    theta = np.zeros(m)\n",
    "    print(x.values)\n",
    "    print(x.shape)\n",
    "    print('aa')\n",
    "    \n",
    "    # h = sigmoid(np.matrix(theta).transpose().dot(x))\n",
    "    # print('y:')\n",
    "    # print(y.shape)\n",
    "    # J = 1/m*(np.sum(-y.dot(np.log(h))-(1-y)*(np.log(1-h))))\n",
    "    # print(J)    \n",
    "\n",
    "# b = np.matrix(np.zeros(3))\n",
    "# c = np.matrix(np.matrix(np.zeros(3)).transpose())\n",
    "# print(b, c)\n",
    "print(data.describe())\n",
    "print(data.values)\n",
    "\n",
    "print(type(data))\n",
    "print(type(data.values))\n",
    "print(type(np.array([1, 2])))\n",
    "# print(data.values[:, 0:1])"
   ]
  },
  {
   "cell_type": "code",
   "execution_count": 133,
   "metadata": {},
   "outputs": [],
   "source": []
  }
 ],
 "metadata": {
  "kernelspec": {
   "display_name": "Python 2",
   "language": "python",
   "name": "python2"
  },
  "language_info": {
   "codemirror_mode": {
    "name": "ipython",
    "version": 2
   },
   "file_extension": ".py",
   "mimetype": "text/x-python",
   "name": "python",
   "nbconvert_exporter": "python",
   "pygments_lexer": "ipython2",
   "version": "2.7.6"
  }
 },
 "nbformat": 4,
 "nbformat_minor": 0
}
